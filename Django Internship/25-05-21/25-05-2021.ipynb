{
 "cells": [
  {
   "cell_type": "markdown",
   "id": "61e87299",
   "metadata": {},
   "source": [
    "# Markdown"
   ]
  },
  {
   "cell_type": "markdown",
   "id": "452c5e30",
   "metadata": {},
   "source": [
    "# Python Basics"
   ]
  },
  {
   "cell_type": "markdown",
   "id": "15a98110",
   "metadata": {},
   "source": [
    "## Variable\n",
    "    - To store a data\n",
    "    - To access the value in particular function or method\n",
    "    - To Change the value"
   ]
  },
  {
   "cell_type": "code",
   "execution_count": 2,
   "id": "cf342767",
   "metadata": {},
   "outputs": [],
   "source": [
    "a = 10"
   ]
  },
  {
   "cell_type": "code",
   "execution_count": 3,
   "id": "da47a9fd",
   "metadata": {},
   "outputs": [
    {
     "data": {
      "text/plain": [
       "10"
      ]
     },
     "execution_count": 3,
     "metadata": {},
     "output_type": "execute_result"
    }
   ],
   "source": [
    "a"
   ]
  },
  {
   "cell_type": "code",
   "execution_count": 4,
   "id": "acdd90cb",
   "metadata": {},
   "outputs": [],
   "source": [
    "b = 20"
   ]
  },
  {
   "cell_type": "code",
   "execution_count": 5,
   "id": "2148d123",
   "metadata": {},
   "outputs": [
    {
     "data": {
      "text/plain": [
       "20"
      ]
     },
     "execution_count": 5,
     "metadata": {},
     "output_type": "execute_result"
    }
   ],
   "source": [
    "b"
   ]
  },
  {
   "cell_type": "code",
   "execution_count": 4,
   "id": "a382dfe9",
   "metadata": {},
   "outputs": [
    {
     "data": {
      "text/plain": [
       "(200, 'rajesh')"
      ]
     },
     "execution_count": 4,
     "metadata": {},
     "output_type": "execute_result"
    }
   ],
   "source": [
    "a = 200\n",
    "b = 'rajesh'\n",
    "a,b"
   ]
  },
  {
   "cell_type": "code",
   "execution_count": 6,
   "id": "89b7c5ae",
   "metadata": {},
   "outputs": [
    {
     "name": "stdout",
     "output_type": "stream",
     "text": [
      "200 rajesh\n",
      "rajesh 200\n"
     ]
    }
   ],
   "source": [
    "print(a,b)\n",
    "print(b,a)"
   ]
  },
  {
   "cell_type": "markdown",
   "id": "4f7bf4b1",
   "metadata": {},
   "source": [
    "## Data Types\n",
    "    - Int -> only numbers\n",
    "    - Float -> decimal points\n",
    "    - String -> either with ' or \""
   ]
  },
  {
   "cell_type": "markdown",
   "id": "b37b77d0",
   "metadata": {},
   "source": [
    "```\n",
    "    c = 23.000\n",
    "    t = 'tarun'\n",
    "```"
   ]
  },
  {
   "cell_type": "code",
   "execution_count": 7,
   "id": "179a3b02",
   "metadata": {},
   "outputs": [],
   "source": [
    "c,t = 23.000,'tarun'"
   ]
  },
  {
   "cell_type": "code",
   "execution_count": 8,
   "id": "bebeee0c",
   "metadata": {},
   "outputs": [
    {
     "name": "stdout",
     "output_type": "stream",
     "text": [
      "23.0 tarun\n"
     ]
    }
   ],
   "source": [
    "print(c,t)"
   ]
  },
  {
   "cell_type": "code",
   "execution_count": 9,
   "id": "944b8751",
   "metadata": {},
   "outputs": [
    {
     "data": {
      "text/plain": [
       "23.0"
      ]
     },
     "execution_count": 9,
     "metadata": {},
     "output_type": "execute_result"
    }
   ],
   "source": [
    "c"
   ]
  },
  {
   "cell_type": "markdown",
   "id": "c54da02b",
   "metadata": {},
   "source": [
    "## Type:\n",
    "    - To know the data type for that value\n",
    "    - type(variablename,datastructure)"
   ]
  },
  {
   "cell_type": "code",
   "execution_count": 10,
   "id": "ca56f9c9",
   "metadata": {},
   "outputs": [
    {
     "data": {
      "text/plain": [
       "float"
      ]
     },
     "execution_count": 10,
     "metadata": {},
     "output_type": "execute_result"
    }
   ],
   "source": [
    "type(c)"
   ]
  },
  {
   "cell_type": "code",
   "execution_count": 11,
   "id": "02f9bea6",
   "metadata": {},
   "outputs": [
    {
     "data": {
      "text/plain": [
       "'12.056'"
      ]
     },
     "execution_count": 11,
     "metadata": {},
     "output_type": "execute_result"
    }
   ],
   "source": [
    "g = '12.056'\n",
    "g"
   ]
  },
  {
   "cell_type": "code",
   "execution_count": 12,
   "id": "80202d76",
   "metadata": {},
   "outputs": [
    {
     "name": "stdout",
     "output_type": "stream",
     "text": [
      "12.056\n"
     ]
    }
   ],
   "source": [
    "print(g)"
   ]
  },
  {
   "cell_type": "code",
   "execution_count": 13,
   "id": "3a4c839d",
   "metadata": {},
   "outputs": [
    {
     "data": {
      "text/plain": [
       "str"
      ]
     },
     "execution_count": 13,
     "metadata": {},
     "output_type": "execute_result"
    }
   ],
   "source": [
    "type(g)"
   ]
  },
  {
   "cell_type": "code",
   "execution_count": 14,
   "id": "67a9a2c1",
   "metadata": {},
   "outputs": [
    {
     "name": "stdout",
     "output_type": "stream",
     "text": [
      "<class 'str'>\n"
     ]
    }
   ],
   "source": [
    "print(type(g))"
   ]
  },
  {
   "cell_type": "code",
   "execution_count": 15,
   "id": "f929bad6",
   "metadata": {},
   "outputs": [
    {
     "name": "stdout",
     "output_type": "stream",
     "text": [
      "<class 'float'>\n"
     ]
    }
   ],
   "source": [
    "print(type(c))"
   ]
  },
  {
   "cell_type": "code",
   "execution_count": 16,
   "id": "abc2c581",
   "metadata": {},
   "outputs": [
    {
     "name": "stdout",
     "output_type": "stream",
     "text": [
      "<class 'int'>\n"
     ]
    }
   ],
   "source": [
    "print(type(a))"
   ]
  },
  {
   "cell_type": "code",
   "execution_count": 17,
   "id": "5f8905c5",
   "metadata": {},
   "outputs": [
    {
     "name": "stdout",
     "output_type": "stream",
     "text": [
      "<class 'int'> <class 'float'> <class 'str'>\n"
     ]
    }
   ],
   "source": [
    "print(type(a),type(c),type(g))"
   ]
  },
  {
   "cell_type": "code",
   "execution_count": 18,
   "id": "04d678f5",
   "metadata": {},
   "outputs": [
    {
     "data": {
      "text/plain": [
       "(200, 23.0, '12.056')"
      ]
     },
     "execution_count": 18,
     "metadata": {},
     "output_type": "execute_result"
    }
   ],
   "source": [
    "a,c,g"
   ]
  },
  {
   "cell_type": "code",
   "execution_count": 19,
   "id": "50667327",
   "metadata": {},
   "outputs": [
    {
     "data": {
      "text/plain": [
       "(float, int, str)"
      ]
     },
     "execution_count": 19,
     "metadata": {},
     "output_type": "execute_result"
    }
   ],
   "source": [
    "type(c),type(a),type(g)"
   ]
  },
  {
   "cell_type": "markdown",
   "id": "de6e7ed7",
   "metadata": {},
   "source": [
    "## Input():\n",
    "    - By default it will be considered as a string value\n",
    "    - Print(),read()"
   ]
  },
  {
   "cell_type": "code",
   "execution_count": 2,
   "id": "b829bd91",
   "metadata": {},
   "outputs": [
    {
     "name": "stdout",
     "output_type": "stream",
     "text": [
      "26\n",
      "26 <class 'str'>\n"
     ]
    }
   ],
   "source": [
    "a = input()\n",
    "print(a,type(a))"
   ]
  },
  {
   "cell_type": "code",
   "execution_count": 6,
   "id": "d3f7916f",
   "metadata": {},
   "outputs": [
    {
     "name": "stdout",
     "output_type": "stream",
     "text": [
      "Enter a value: r\n",
      "r <class 'str'>\n"
     ]
    }
   ],
   "source": [
    "t = input(\"Enter a value: \")\n",
    "print(t,type(t))"
   ]
  },
  {
   "cell_type": "markdown",
   "id": "2ff55f71",
   "metadata": {},
   "source": [
    "## TypeCasting\n",
    "    - Converting one data into another data type\n",
    "    - int(),str(),float()"
   ]
  },
  {
   "cell_type": "code",
   "execution_count": 10,
   "id": "561ddc95",
   "metadata": {},
   "outputs": [
    {
     "name": "stdout",
     "output_type": "stream",
     "text": [
      "Enter only integer values: 78\n",
      "78 <class 'int'>\n"
     ]
    }
   ],
   "source": [
    "p = int(input(\"Enter only integer values: \"))\n",
    "print(p,type(p))"
   ]
  },
  {
   "cell_type": "code",
   "execution_count": 14,
   "id": "3c2d5ca2",
   "metadata": {},
   "outputs": [
    {
     "name": "stdout",
     "output_type": "stream",
     "text": [
      "Enter Float Values: 48.95\n",
      "48.95 <class 'float'>\n"
     ]
    }
   ],
   "source": [
    "m = float(input(\"Enter Float Values: \"))\n",
    "print(m,type(m))"
   ]
  },
  {
   "cell_type": "code",
   "execution_count": 22,
   "id": "deb7c48d",
   "metadata": {},
   "outputs": [
    {
     "name": "stdout",
     "output_type": "stream",
     "text": [
      "Enter integer value: 45\n",
      "Enter Float Values: 48.0218\n",
      "Conversion of int value is:  45.0\n",
      "Conversion of float value is:  48\n",
      "Both cases in string is:'45' '48.0218'\n"
     ]
    }
   ],
   "source": [
    "q = int(input(\"Enter integer value: \"))\n",
    "k = float(input(\"Enter Float Values: \"))\n",
    "print(\"Conversion of int value is: \",float(q))\n",
    "print(\"Conversion of float value is: \",int(k))\n",
    "print(\"Both cases in string is:\"+\"'\"+str(q)+\"'\"+\" \"+\"'\"+str(k)+\"'\")"
   ]
  },
  {
   "cell_type": "markdown",
   "id": "1cc43716",
   "metadata": {},
   "source": [
    "````\n",
    "    Input:\n",
    "        Enter integer value: 48\n",
    "        Enter Float value: 45.0218\n",
    "\n",
    "    Output:\n",
    "        Conversion of int value is: 48.0\n",
    "        Conversion of float value is: 45\n",
    "        Both case in string is: '48' '45.0218'\n",
    "````"
   ]
  },
  {
   "cell_type": "code",
   "execution_count": null,
   "id": "63033e1c",
   "metadata": {},
   "outputs": [],
   "source": []
  }
 ],
 "metadata": {
  "language_info": {
   "codemirror_mode": {
    "name": "ipython",
    "version": 3
   },
   "file_extension": ".py",
   "mimetype": "text/x-python",
   "name": "python",
   "nbconvert_exporter": "python",
   "pygments_lexer": "ipython3",
   "version": "3.7.5"
  }
 },
 "nbformat": 4,
 "nbformat_minor": 5
}
