{
 "cells": [
  {
   "cell_type": "markdown",
   "id": "69318481",
   "metadata": {},
   "source": [
    "# Set:"
   ]
  },
  {
   "cell_type": "code",
   "execution_count": 3,
   "id": "9b64f0a8",
   "metadata": {},
   "outputs": [
    {
     "name": "stdout",
     "output_type": "stream",
     "text": [
      "{450, 45, 'Ramu', 120, 'a', 155}\n"
     ]
    }
   ],
   "source": [
    "g = {45,'a',45,120,155,450,\"Ramu\"}\n",
    "print(g)"
   ]
  },
  {
   "cell_type": "code",
   "execution_count": 4,
   "id": "b5036fe6",
   "metadata": {},
   "outputs": [
    {
     "data": {
      "text/plain": [
       "{120, 155, 45, 450, 'Ramu', 'a'}"
      ]
     },
     "execution_count": 4,
     "metadata": {},
     "output_type": "execute_result"
    }
   ],
   "source": [
    "g"
   ]
  },
  {
   "cell_type": "code",
   "execution_count": 5,
   "id": "1cc218b3",
   "metadata": {},
   "outputs": [
    {
     "name": "stdout",
     "output_type": "stream",
     "text": [
      "{} <class 'dict'>\n",
      "{2} <class 'set'>\n"
     ]
    }
   ],
   "source": [
    "h = {}\n",
    "m = {2}\n",
    "print(h,type(h))\n",
    "print(m,type(m))"
   ]
  },
  {
   "cell_type": "code",
   "execution_count": 6,
   "id": "36f37a8f",
   "metadata": {},
   "outputs": [
    {
     "name": "stdout",
     "output_type": "stream",
     "text": [
      "['__and__', '__class__', '__contains__', '__delattr__', '__dir__', '__doc__', '__eq__', '__format__', '__ge__', '__getattribute__', '__gt__', '__hash__', '__iand__', '__init__', '__init_subclass__', '__ior__', '__isub__', '__iter__', '__ixor__', '__le__', '__len__', '__lt__', '__ne__', '__new__', '__or__', '__rand__', '__reduce__', '__reduce_ex__', '__repr__', '__ror__', '__rsub__', '__rxor__', '__setattr__', '__sizeof__', '__str__', '__sub__', '__subclasshook__', '__xor__', 'add', 'clear', 'copy', 'difference', 'difference_update', 'discard', 'intersection', 'intersection_update', 'isdisjoint', 'issubset', 'issuperset', 'pop', 'remove', 'symmetric_difference', 'symmetric_difference_update', 'union', 'update']\n"
     ]
    }
   ],
   "source": [
    "print(dir(set))"
   ]
  },
  {
   "cell_type": "code",
   "execution_count": 11,
   "id": "ee772379",
   "metadata": {},
   "outputs": [
    {
     "name": "stdout",
     "output_type": "stream",
     "text": [
      "{0, 34, 67, 'prasanna', 'lalitha', 'ramu'}\n"
     ]
    }
   ],
   "source": [
    "s1 = {34,67,\"ramu\",0,\"lalitha\"}\n",
    "s1.add(\"prasanna\")\n",
    "print(s1)"
   ]
  },
  {
   "cell_type": "code",
   "execution_count": 8,
   "id": "7b76a001",
   "metadata": {},
   "outputs": [
    {
     "data": {
      "text/plain": [
       "{0, 34, 67, 'lalitha', 'prasanna', 'ramu'}"
      ]
     },
     "execution_count": 8,
     "metadata": {},
     "output_type": "execute_result"
    }
   ],
   "source": [
    "s1"
   ]
  },
  {
   "cell_type": "code",
   "execution_count": 9,
   "id": "4f2d0a23",
   "metadata": {},
   "outputs": [
    {
     "ename": "TypeError",
     "evalue": "'set' object is not subscriptable",
     "output_type": "error",
     "traceback": [
      "\u001b[1;31m---------------------------------------------------------------------------\u001b[0m",
      "\u001b[1;31mTypeError\u001b[0m                                 Traceback (most recent call last)",
      "\u001b[1;32m<ipython-input-9-7087e83d753a>\u001b[0m in \u001b[0;36m<module>\u001b[1;34m\u001b[0m\n\u001b[1;32m----> 1\u001b[1;33m \u001b[0ms1\u001b[0m\u001b[1;33m[\u001b[0m\u001b[1;36m2\u001b[0m\u001b[1;33m]\u001b[0m\u001b[1;33m\u001b[0m\u001b[1;33m\u001b[0m\u001b[0m\n\u001b[0m",
      "\u001b[1;31mTypeError\u001b[0m: 'set' object is not subscriptable"
     ]
    }
   ],
   "source": [
    "s1[2]"
   ]
  },
  {
   "cell_type": "code",
   "execution_count": 13,
   "id": "36109dc9",
   "metadata": {},
   "outputs": [
    {
     "name": "stdout",
     "output_type": "stream",
     "text": [
      "{0, 34, 67, 'prasanna', 'lalitha', 'ramu'}\n",
      "{34, 67, 'prasanna', 'lalitha', 'ramu'}\n"
     ]
    }
   ],
   "source": [
    "print(s1)\n",
    "s1.pop()\n",
    "print(s1)"
   ]
  },
  {
   "cell_type": "code",
   "execution_count": 14,
   "id": "4d4ec568",
   "metadata": {},
   "outputs": [
    {
     "data": {
      "text/plain": [
       "{34, 67, 'lalitha', 'prasanna', 'ramu'}"
      ]
     },
     "execution_count": 14,
     "metadata": {},
     "output_type": "execute_result"
    }
   ],
   "source": [
    "s1"
   ]
  },
  {
   "cell_type": "code",
   "execution_count": 15,
   "id": "ae86f80a",
   "metadata": {},
   "outputs": [
    {
     "name": "stdout",
     "output_type": "stream",
     "text": [
      "{34, 67, 'prasanna', 'lalitha', 'ramu'}\n",
      "{67, 'prasanna', 'lalitha', 'ramu'}\n"
     ]
    }
   ],
   "source": [
    "print(s1)\n",
    "s1.pop()\n",
    "print(s1)"
   ]
  },
  {
   "cell_type": "code",
   "execution_count": 16,
   "id": "9933cf1d",
   "metadata": {},
   "outputs": [
    {
     "name": "stdout",
     "output_type": "stream",
     "text": [
      "{67, 'prasanna', 'lalitha', 'ramu'}\n"
     ]
    },
    {
     "ename": "TypeError",
     "evalue": "pop() takes no arguments (1 given)",
     "output_type": "error",
     "traceback": [
      "\u001b[1;31m---------------------------------------------------------------------------\u001b[0m",
      "\u001b[1;31mTypeError\u001b[0m                                 Traceback (most recent call last)",
      "\u001b[1;32m<ipython-input-16-bbbfe3a07b3f>\u001b[0m in \u001b[0;36m<module>\u001b[1;34m\u001b[0m\n\u001b[0;32m      1\u001b[0m \u001b[0mprint\u001b[0m\u001b[1;33m(\u001b[0m\u001b[0ms1\u001b[0m\u001b[1;33m)\u001b[0m\u001b[1;33m\u001b[0m\u001b[1;33m\u001b[0m\u001b[0m\n\u001b[1;32m----> 2\u001b[1;33m \u001b[0ms1\u001b[0m\u001b[1;33m.\u001b[0m\u001b[0mpop\u001b[0m\u001b[1;33m(\u001b[0m\u001b[1;34m'ramu'\u001b[0m\u001b[1;33m)\u001b[0m\u001b[1;33m\u001b[0m\u001b[1;33m\u001b[0m\u001b[0m\n\u001b[0m\u001b[0;32m      3\u001b[0m \u001b[0mprint\u001b[0m\u001b[1;33m(\u001b[0m\u001b[0ms1\u001b[0m\u001b[1;33m)\u001b[0m\u001b[1;33m\u001b[0m\u001b[1;33m\u001b[0m\u001b[0m\n",
      "\u001b[1;31mTypeError\u001b[0m: pop() takes no arguments (1 given)"
     ]
    }
   ],
   "source": [
    "print(s1)\n",
    "s1.pop('ramu')\n",
    "print(s1)"
   ]
  },
  {
   "cell_type": "code",
   "execution_count": 17,
   "id": "1442bfbb",
   "metadata": {},
   "outputs": [
    {
     "name": "stdout",
     "output_type": "stream",
     "text": [
      "{67, 'prasanna', 'lalitha', 'ramu'}\n",
      "{67, 'prasanna', 'lalitha'}\n"
     ]
    }
   ],
   "source": [
    "print(s1)\n",
    "s1.remove('ramu')\n",
    "print(s1)"
   ]
  },
  {
   "cell_type": "code",
   "execution_count": 18,
   "id": "fc15b082",
   "metadata": {},
   "outputs": [
    {
     "name": "stdout",
     "output_type": "stream",
     "text": [
      "{67, 'prasanna', 'lalitha'}\n",
      "{67, 'lalitha'}\n"
     ]
    }
   ],
   "source": [
    "print(s1)\n",
    "s1.remove(\"prasanna\")\n",
    "print(s1)"
   ]
  },
  {
   "cell_type": "code",
   "execution_count": 19,
   "id": "6cb86a87",
   "metadata": {},
   "outputs": [
    {
     "name": "stdout",
     "output_type": "stream",
     "text": [
      "{67, 'lalitha'}\n"
     ]
    },
    {
     "ename": "KeyError",
     "evalue": "2",
     "output_type": "error",
     "traceback": [
      "\u001b[1;31m---------------------------------------------------------------------------\u001b[0m",
      "\u001b[1;31mKeyError\u001b[0m                                  Traceback (most recent call last)",
      "\u001b[1;32m<ipython-input-19-4f9f14db1426>\u001b[0m in \u001b[0;36m<module>\u001b[1;34m\u001b[0m\n\u001b[0;32m      1\u001b[0m \u001b[0mprint\u001b[0m\u001b[1;33m(\u001b[0m\u001b[0ms1\u001b[0m\u001b[1;33m)\u001b[0m\u001b[1;33m\u001b[0m\u001b[1;33m\u001b[0m\u001b[0m\n\u001b[1;32m----> 2\u001b[1;33m \u001b[0ms1\u001b[0m\u001b[1;33m.\u001b[0m\u001b[0mremove\u001b[0m\u001b[1;33m(\u001b[0m\u001b[1;36m2\u001b[0m\u001b[1;33m)\u001b[0m\u001b[1;33m\u001b[0m\u001b[1;33m\u001b[0m\u001b[0m\n\u001b[0m\u001b[0;32m      3\u001b[0m \u001b[0mprint\u001b[0m\u001b[1;33m(\u001b[0m\u001b[0ms1\u001b[0m\u001b[1;33m)\u001b[0m\u001b[1;33m\u001b[0m\u001b[1;33m\u001b[0m\u001b[0m\n",
      "\u001b[1;31mKeyError\u001b[0m: 2"
     ]
    }
   ],
   "source": [
    "print(s1)\n",
    "s1.remove(2)\n",
    "print(s1)"
   ]
  },
  {
   "cell_type": "code",
   "execution_count": 21,
   "id": "54c14ae5",
   "metadata": {},
   "outputs": [
    {
     "name": "stdout",
     "output_type": "stream",
     "text": [
      "{32, 5, 6, 8, 45}\n",
      "{1, 2, 5, 6, 7, 456, 123}\n",
      "{32, 1, 2, 5, 6, 7, 456, 8, 45, 123}\n",
      "{32, 5, 6, 8, 45}\n",
      "{1, 2, 5, 6, 7, 456, 123}\n"
     ]
    }
   ],
   "source": [
    "s2 = {45,8,32,5,6}\n",
    "s3 = {1,2,5,7,6,123,456}\n",
    "print(s2)\n",
    "print(s3)\n",
    "print(s3.union(s2))\n",
    "print(s2)\n",
    "print(s3)"
   ]
  },
  {
   "cell_type": "code",
   "execution_count": 22,
   "id": "d344eb7e",
   "metadata": {},
   "outputs": [
    {
     "name": "stdout",
     "output_type": "stream",
     "text": [
      "{32, 5, 6, 8, 45}\n",
      "{1, 2, 5, 6, 7, 456, 123}\n",
      "{5, 6}\n",
      "{32, 5, 6, 8, 45}\n",
      "{1, 2, 5, 6, 7, 456, 123}\n"
     ]
    }
   ],
   "source": [
    "print(s2)\n",
    "print(s3)\n",
    "print(s3.intersection(s2))\n",
    "print(s2)\n",
    "print(s3)"
   ]
  },
  {
   "cell_type": "markdown",
   "id": "b2783ba2",
   "metadata": {},
   "source": [
    "# Dictionary:"
   ]
  },
  {
   "cell_type": "code",
   "execution_count": 26,
   "id": "fa5658e1",
   "metadata": {},
   "outputs": [
    {
     "name": "stdout",
     "output_type": "stream",
     "text": [
      "{'name': ('ramu', 'suresh', 'tejaswini'), 'age': 20, 'sal': [24.5, 48.56]} <class 'dict'>\n"
     ]
    }
   ],
   "source": [
    "t = {'name':(\"ramu\",\"suresh\",\"tejaswini\"),'age':20,'sal':[24.500,48.560]}\n",
    "print(t,type(t))"
   ]
  },
  {
   "cell_type": "code",
   "execution_count": 30,
   "id": "d1d40f8b",
   "metadata": {},
   "outputs": [
    {
     "name": "stdout",
     "output_type": "stream",
     "text": [
      "24.5\n"
     ]
    }
   ],
   "source": [
    "print(t['sal'][0])"
   ]
  },
  {
   "cell_type": "code",
   "execution_count": 31,
   "id": "c04a9d13",
   "metadata": {},
   "outputs": [
    {
     "name": "stdout",
     "output_type": "stream",
     "text": [
      "['__class__', '__contains__', '__delattr__', '__delitem__', '__dir__', '__doc__', '__eq__', '__format__', '__ge__', '__getattribute__', '__getitem__', '__gt__', '__hash__', '__init__', '__init_subclass__', '__iter__', '__le__', '__len__', '__lt__', '__ne__', '__new__', '__reduce__', '__reduce_ex__', '__repr__', '__setattr__', '__setitem__', '__sizeof__', '__str__', '__subclasshook__', 'clear', 'copy', 'fromkeys', 'get', 'items', 'keys', 'pop', 'popitem', 'setdefault', 'update', 'values']\n"
     ]
    }
   ],
   "source": [
    "print(dir(dict))"
   ]
  },
  {
   "cell_type": "code",
   "execution_count": 32,
   "id": "a3e72195",
   "metadata": {},
   "outputs": [
    {
     "name": "stdout",
     "output_type": "stream",
     "text": [
      "dict_keys(['name', 'age', 'sal'])\n"
     ]
    }
   ],
   "source": [
    "print(t.keys())"
   ]
  },
  {
   "cell_type": "code",
   "execution_count": 33,
   "id": "255f9b0a",
   "metadata": {},
   "outputs": [
    {
     "name": "stdout",
     "output_type": "stream",
     "text": [
      "dict_values([('ramu', 'suresh', 'tejaswini'), 20, [24.5, 48.56]])\n"
     ]
    }
   ],
   "source": [
    "print(t.values())"
   ]
  },
  {
   "cell_type": "code",
   "execution_count": 36,
   "id": "3caabccd",
   "metadata": {},
   "outputs": [
    {
     "name": "stdout",
     "output_type": "stream",
     "text": [
      "{'name': 'tilak', 'age': [45, 59], 'sal': 0}\n"
     ]
    }
   ],
   "source": [
    "y = {'name':\"tilak\",\"age\":[45,59],\"sal\":0}\n",
    "print(y)"
   ]
  },
  {
   "cell_type": "code",
   "execution_count": 37,
   "id": "aaf5f1bf",
   "metadata": {},
   "outputs": [
    {
     "name": "stdout",
     "output_type": "stream",
     "text": [
      "dict_items([('name', ('ramu', 'suresh', 'tejaswini')), ('age', 20), ('sal', [24.5, 48.56])])\n"
     ]
    }
   ],
   "source": [
    "print(t.items())"
   ]
  },
  {
   "cell_type": "code",
   "execution_count": null,
   "id": "e2ea143b",
   "metadata": {},
   "outputs": [],
   "source": [
    "[(key,value),(),()]"
   ]
  },
  {
   "cell_type": "code",
   "execution_count": 40,
   "id": "c3cabd96",
   "metadata": {},
   "outputs": [
    {
     "name": "stdout",
     "output_type": "stream",
     "text": [
      "('ramu', 'suresh', 'tejaswini')\n",
      "20\n",
      "None\n"
     ]
    }
   ],
   "source": [
    "print(t.get('name'))\n",
    "print(t.get('age'))\n",
    "print(t.get('no'))"
   ]
  },
  {
   "cell_type": "code",
   "execution_count": 41,
   "id": "bd5102ae",
   "metadata": {},
   "outputs": [
    {
     "name": "stdout",
     "output_type": "stream",
     "text": [
      "{'name': ('ramu', 'suresh', 'tejaswini'), 'age': 20, 'sal': [24.5, 48.56]}\n"
     ]
    }
   ],
   "source": [
    "print(t)"
   ]
  },
  {
   "cell_type": "code",
   "execution_count": 43,
   "id": "42968cea",
   "metadata": {},
   "outputs": [
    {
     "name": "stdout",
     "output_type": "stream",
     "text": [
      "{'name': ('ramu', 'suresh', 'tejaswini'), 'age': 20, 'sal': [24.5, 48.56], 'no': 12}\n",
      "{'name': ('ramu', 'suresh', 'tejaswini'), 'age': 20, 'sal': [24.5, 48.56], 'no': [12, 78, 89, 450]}\n"
     ]
    }
   ],
   "source": [
    "print(t)\n",
    "t['no'] = [12,78,89,450]\n",
    "print(t)"
   ]
  },
  {
   "cell_type": "code",
   "execution_count": 44,
   "id": "734a686a",
   "metadata": {},
   "outputs": [
    {
     "name": "stdout",
     "output_type": "stream",
     "text": [
      "{'name': ('ramu', 'suresh', 'tejaswini'), 'age': 20, 'sal': [24.5, 48.56], 'no': [12, 78, 89, 450]}\n",
      "{'name': ('ramu', 'suresh', 'tejaswini'), 'age': 20, 'sal': [24.5, 48.56], 'no': 'yamini'}\n"
     ]
    }
   ],
   "source": [
    "print(t)\n",
    "t['no'] = \"yamini\"\n",
    "print(t)"
   ]
  },
  {
   "cell_type": "code",
   "execution_count": 45,
   "id": "5b0e0363",
   "metadata": {},
   "outputs": [
    {
     "name": "stdout",
     "output_type": "stream",
     "text": [
      "{'name': ('ramu', 'suresh', 'tejaswini'), 'age': 20, 'sal': [24.5, 48.56], 'no': 'yamini'}\n",
      "{'name': ('ramu', 'suresh', 'tejaswini'), 'age': 20, 'sal': [24.5, 48.56], 'no': 'yamini', 'tr': None}\n"
     ]
    }
   ],
   "source": [
    "print(t)\n",
    "t.setdefault('tr')\n",
    "print(t)"
   ]
  },
  {
   "cell_type": "code",
   "execution_count": 61,
   "id": "0762b327",
   "metadata": {},
   "outputs": [
    {
     "name": "stdout",
     "output_type": "stream",
     "text": [
      "{'name': ('ramu', 'suresh', 'tejaswini'), 'age': 20, 'sal': [24.5, 48.56], 'no': 'yamini', 'tr': None}\n",
      "{'name': ('ramu', 'suresh', 'tejaswini'), 'age': 20, 'sal': [24.5, 48.56], 'no': 'yamini', 'tr': 45}\n"
     ]
    }
   ],
   "source": [
    "print(t)\n",
    "t.update({'tr':45})\n",
    "print(t)"
   ]
  },
  {
   "cell_type": "code",
   "execution_count": 62,
   "id": "09a8a5c9",
   "metadata": {},
   "outputs": [
    {
     "name": "stdout",
     "output_type": "stream",
     "text": [
      "{'name': ('ramu', 'suresh', 'tejaswini'), 'age': 20, 'sal': [24.5, 48.56], 'no': 'yamini', 'tr': 45}\n"
     ]
    }
   ],
   "source": [
    "print(t)"
   ]
  },
  {
   "cell_type": "code",
   "execution_count": 65,
   "id": "b8d38dd3",
   "metadata": {},
   "outputs": [
    {
     "name": "stdout",
     "output_type": "stream",
     "text": [
      "None\n"
     ]
    }
   ],
   "source": [
    "print(t.update({'tr':\"ramu\"}))"
   ]
  },
  {
   "cell_type": "code",
   "execution_count": 66,
   "id": "90b0bc1b",
   "metadata": {},
   "outputs": [
    {
     "name": "stdout",
     "output_type": "stream",
     "text": [
      "{'name': ('ramu', 'suresh', 'tejaswini'), 'age': 20, 'sal': [24.5, 48.56], 'no': 'yamini', 'tr': 'ramu'}\n"
     ]
    }
   ],
   "source": [
    "print(t)"
   ]
  },
  {
   "cell_type": "code",
   "execution_count": 68,
   "id": "1138dbc5",
   "metadata": {},
   "outputs": [
    {
     "name": "stdout",
     "output_type": "stream",
     "text": [
      "{'name': ('ramu', 'suresh', 'tejaswini'), 'age': 20, 'sal': [24.5, 48.56], 'no': 'yamini', 'tr': 'ramu'}\n",
      "20\n",
      "{'name': ('ramu', 'suresh', 'tejaswini'), 'sal': [24.5, 48.56], 'no': 'yamini', 'tr': 'ramu'}\n"
     ]
    }
   ],
   "source": [
    "print(t)\n",
    "print(t.pop('age'))\n",
    "print(t)"
   ]
  },
  {
   "cell_type": "code",
   "execution_count": 69,
   "id": "60e15acc",
   "metadata": {},
   "outputs": [
    {
     "name": "stdout",
     "output_type": "stream",
     "text": [
      "{'name': ('ramu', 'suresh', 'tejaswini'), 'sal': [24.5, 48.56], 'no': 'yamini', 'tr': 'ramu'}\n",
      "('tr', 'ramu')\n",
      "{'name': ('ramu', 'suresh', 'tejaswini'), 'sal': [24.5, 48.56], 'no': 'yamini'}\n"
     ]
    }
   ],
   "source": [
    "print(t)\n",
    "print(t.popitem())\n",
    "print(t)"
   ]
  },
  {
   "cell_type": "code",
   "execution_count": 82,
   "id": "c1dff74d",
   "metadata": {},
   "outputs": [
    {
     "name": "stdout",
     "output_type": "stream",
     "text": [
      "['name', 'age', 'sal']\n",
      "78\n",
      "{}\n"
     ]
    }
   ],
   "source": [
    "q = ['name','age','sal']\n",
    "w = 78\n",
    "print(q)\n",
    "print(w)\n",
    "f= {}\n",
    "f.fromkeys(q,w)\n",
    "print(f)"
   ]
  },
  {
   "cell_type": "code",
   "execution_count": 86,
   "id": "bdca1ff6",
   "metadata": {},
   "outputs": [
    {
     "name": "stdout",
     "output_type": "stream",
     "text": [
      "{'name': 78, 'age': 78, 'sal': 78}\n"
     ]
    }
   ],
   "source": [
    "t = {'name':\"ramu\",'sno':1}\n",
    "t1 = {}\n",
    "t1 = t.fromkeys(q,w)\n",
    "print(t1)"
   ]
  },
  {
   "cell_type": "code",
   "execution_count": 88,
   "id": "86ac9e63",
   "metadata": {},
   "outputs": [
    {
     "name": "stdout",
     "output_type": "stream",
     "text": [
      "{'Maths': [0, 45], 'Python': [0, 45], 'C++': [0, 45]}\n"
     ]
    }
   ],
   "source": [
    "marks = {}.fromkeys([\"Maths\",\"Python\",\"C++\"],[0,45])\n",
    "print(marks)"
   ]
  },
  {
   "cell_type": "code",
   "execution_count": null,
   "id": "a9151e1c",
   "metadata": {},
   "outputs": [],
   "source": [
    "contact application:\n",
    "    \n",
    "    1.Enter new record\n",
    "    2.Display all records\n",
    "    3.Update Record\n",
    "    4.Delete Record\n",
    "\n",
    "    1. ramu -> not exists\n",
    "        mobile number -> xxxx\n",
    "        ramu record Already exists\n",
    "    2. \n",
    "        name      mobile number\n",
    "        ramu      xxxxxxxxxxx\n",
    "        rajesh    xxxxxxxxxxx\n",
    "        \n",
    "    3. ramu -> exist\n",
    "        mobile number -> xxxxxxx\n",
    "        User doesnt exists\n",
    "    4. ramu -> exist\n",
    "        User deleted Successfully\n",
    "        User doesnt exists "
   ]
  },
  {
   "cell_type": "code",
   "execution_count": null,
   "id": "8988ca32",
   "metadata": {},
   "outputs": [],
   "source": [
    "1 Enter new contact\n",
    "2 Display all contacts\n",
    "3 Update Contact \n",
    "4 Delete Contct\n",
    "0 Exit\n",
    "    1   Enter your name: rajesh\n",
    "        Rajesh Already exists\n",
    "        Enter your mobile number: xxxxxx\n",
    "    \n",
    "    2   Name        Mobilenumber\n",
    "        Rajesh      xxxxxxxxxx\n",
    "    \n",
    "    3   Enter Your name: Rajesh\n",
    "        Enter Updated mobile number: xxxxxxx\n",
    "        \n",
    "        Rajesh1\n",
    "        Rajesh1 Doesnt exist in your contact\n",
    "    \n",
    "    4  Enter Your name: Rajesh\n",
    "       Rajesh Record deleted successfully\n",
    "       Rajesh Doesnt exist in your contact"
   ]
  }
 ],
 "metadata": {
  "kernelspec": {
   "display_name": "Python 3",
   "language": "python",
   "name": "python3"
  },
  "language_info": {
   "codemirror_mode": {
    "name": "ipython",
    "version": 3
   },
   "file_extension": ".py",
   "mimetype": "text/x-python",
   "name": "python",
   "nbconvert_exporter": "python",
   "pygments_lexer": "ipython3",
   "version": "3.7.5"
  }
 },
 "nbformat": 4,
 "nbformat_minor": 5
}
