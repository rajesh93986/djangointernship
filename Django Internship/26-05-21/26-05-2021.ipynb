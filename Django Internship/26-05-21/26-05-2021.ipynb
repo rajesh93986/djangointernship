{
 "cells": [
  {
   "cell_type": "markdown",
   "id": "d547767e",
   "metadata": {},
   "source": [
    "### Hi Welcome 👍😉"
   ]
  },
  {
   "cell_type": "markdown",
   "id": "8c5f3e08",
   "metadata": {},
   "source": [
    "## Output:\n",
    "    - %\n",
    "    - , +\n",
    "    - .format"
   ]
  },
  {
   "cell_type": "code",
   "execution_count": 1,
   "id": "442a5f12",
   "metadata": {},
   "outputs": [
    {
     "name": "stdout",
     "output_type": "stream",
     "text": [
      "Enter a value: 15\n",
      "Enter a name: Rajesh\n",
      "Entered number is: 15\n",
      "Entered Name is: Rajesh\n"
     ]
    }
   ],
   "source": [
    "n = int(input(\"Enter a value: \"))\n",
    "m = input(\"Enter a name: \")\n",
    "print(\"Entered number is: %d\"%n)\n",
    "print(\"Entered Name is: %s\"%m)"
   ]
  },
  {
   "cell_type": "code",
   "execution_count": 2,
   "id": "263e5f2d",
   "metadata": {},
   "outputs": [
    {
     "name": "stdout",
     "output_type": "stream",
     "text": [
      "Entered Number is: 15 and Entered Name is: Rajesh\n"
     ]
    }
   ],
   "source": [
    "print(\"Entered Number is: %d and Entered Name is: %s\"%(n,m))"
   ]
  },
  {
   "cell_type": "code",
   "execution_count": 3,
   "id": "bc837019",
   "metadata": {},
   "outputs": [
    {
     "name": "stdout",
     "output_type": "stream",
     "text": [
      "Entered Number is: 15 and Entered Name is: Rajesh\n",
      "Entered Number is: 15 and Entered Name is: Rajesh\n",
      "Entered Name is: Rajesh and Entered Number is: 15\n"
     ]
    }
   ],
   "source": [
    "print(\"Entered Number is: {} and Entered Name is: {}\".format(n,m))\n",
    "print(\"Entered Number is: {0} and Entered Name is: {1}\".format(n,m))\n",
    "print(\"Entered Name is: {1} and Entered Number is: {0}\".format(n,m))"
   ]
  },
  {
   "cell_type": "markdown",
   "id": "0b60cc31",
   "metadata": {},
   "source": [
    "## Operators:\n",
    "    - Arithmetic -> +,-,*,/,%,floor(// -> Exact integer), exponential (** => pow())\n",
    "    - Logical -> AND,OR,NOT\n",
    "    - Bitwise -> &&,||,>>,<<\n",
    "    - Relational -> ==,!=,>=,<=,>,<\n",
    "    - Assignment -> +=,-=,*=,/=,%=\n",
    "    - Membership -> in,not in\n",
    "    - Identity -> is,is not"
   ]
  },
  {
   "cell_type": "code",
   "execution_count": 4,
   "id": "fb69611b",
   "metadata": {},
   "outputs": [
    {
     "name": "stdout",
     "output_type": "stream",
     "text": [
      "5\n"
     ]
    }
   ],
   "source": [
    "a = 20\n",
    "print(a>>2)"
   ]
  },
  {
   "cell_type": "markdown",
   "id": "f782285f",
   "metadata": {},
   "source": [
    "# Conditional Statements:\n",
    "    - To Check whether a given condition is either True or False\n",
    "    - if,nested if,if-else,elif ladder"
   ]
  },
  {
   "cell_type": "markdown",
   "id": "76213862",
   "metadata": {},
   "source": [
    "## If -> Single Case [T or F]\n",
    "```\n",
    "    Syntax:\n",
    "        if (condition):\n",
    "            //stmnt\n",
    "```    "
   ]
  },
  {
   "cell_type": "code",
   "execution_count": 12,
   "id": "9c61a64a",
   "metadata": {},
   "outputs": [
    {
     "name": "stdout",
     "output_type": "stream",
     "text": [
      "45\n",
      "Entered Value is: 45\n"
     ]
    }
   ],
   "source": [
    "n = int(input())\n",
    "if n == 45:\n",
    "    print(\"Entered Value is: {}\".format(n))"
   ]
  },
  {
   "cell_type": "markdown",
   "id": "8519f50e",
   "metadata": {},
   "source": [
    "## If-else -> Two Cases[T or F]\n",
    "```\n",
    "    Syntax:\n",
    "        if (condition-1):\n",
    "            //True Statement\n",
    "        else:\n",
    "            //False Statement\n",
    "```"
   ]
  },
  {
   "cell_type": "code",
   "execution_count": 13,
   "id": "f5280b96",
   "metadata": {},
   "outputs": [
    {
     "name": "stdout",
     "output_type": "stream",
     "text": [
      "12\n",
      "26\n",
      "Entered value 12 is not equal to 26\n"
     ]
    }
   ],
   "source": [
    "k = int(input())\n",
    "m = int(input())\n",
    "if k == m:\n",
    "    print(\"Entered values {} and {} are Equal\".format(k,m))\n",
    "else:\n",
    "    print(\"Entered value {} is not equal to {}\".format(k,m))"
   ]
  },
  {
   "cell_type": "markdown",
   "id": "a281c7bb",
   "metadata": {},
   "source": [
    "## Nested If [if within an if] -> one or more cases\n",
    "```\n",
    "    Syntax:\n",
    "        if (condition-1):\n",
    "            if(condition-2):\n",
    "                //stmnt-1\n",
    "       \n",
    "       else optional case\n",
    "       if (condition-1):\n",
    "           if(condition-2):\n",
    "               //stmnt-1\n",
    "           else:\n",
    "               //stmnt-2\n",
    "       else:\n",
    "           //stmnt-3\n",
    "       \n",
    "```"
   ]
  },
  {
   "cell_type": "code",
   "execution_count": 16,
   "id": "96a509de",
   "metadata": {},
   "outputs": [
    {
     "name": "stdout",
     "output_type": "stream",
     "text": [
      "100\n",
      "Entered Value 100 is equal to 100\n"
     ]
    }
   ],
   "source": [
    "n = int(input())\n",
    "if (n<=200):\n",
    "    if (n==100):\n",
    "        print(\"Entered Value {} is equal to 100\".format(n))\n",
    "    else:\n",
    "        print(\"Entered Value {} is not equal to 100 but it is lower than 200\".format(n))\n",
    "else:\n",
    "    print(\"Entered Value {} is greater than 200\".format(n))"
   ]
  },
  {
   "cell_type": "markdown",
   "id": "0fc68536",
   "metadata": {},
   "source": [
    "## Elif -> Two or n more cases \n",
    "```\n",
    "    Syntax:\n",
    "        if (condition-1):\n",
    "            //stmnt-1\n",
    "        elif (condition-2):\n",
    "            //stmnt-2\n",
    "        elif (condition-n):\n",
    "            //stmnt-n\n",
    "            | | | | |\n",
    "        else:\n",
    "            //stmnt-(n+1)\n",
    "```"
   ]
  },
  {
   "cell_type": "code",
   "execution_count": 22,
   "id": "27707bf9",
   "metadata": {},
   "outputs": [
    {
     "name": "stdout",
     "output_type": "stream",
     "text": [
      "30\n",
      "Entered Value 30 is divisible by 2 and 4\n"
     ]
    }
   ],
   "source": [
    "h = int(input())\n",
    "if h%4 == 0:\n",
    "    print(\"Entered Value {} is divisible by 4\".format(h))\n",
    "elif h%2 == 0 & h%4 == 0:\n",
    "    print(\"Entered Value {} is divisible by 2 and 4\".format(h))\n",
    "elif h%2==0:\n",
    "    print(\"Entered Value {} is divisible by 2\".format(h))\n",
    "else:\n",
    "    print(\"Entered Value {} is Not divisible by 2\".format(h))"
   ]
  },
  {
   "cell_type": "markdown",
   "id": "0a632c3f",
   "metadata": {},
   "source": [
    "# Control Statements,Iterations,Loops,Repition\n",
    "    - To Control the Flow of Execution\n",
    "    - For,while"
   ]
  },
  {
   "cell_type": "markdown",
   "id": "78a938c9",
   "metadata": {},
   "source": [
    "## For -> For particular Range => [Know Ranges]\n",
    "```\n",
    "    Syntax:\n",
    "        for iteration_variable in Iterator:\n",
    "            //stmnts\n",
    "        \n",
    "        for iteration_variable in range():\n",
    "            //stmnts\n",
    "            \n",
    "```"
   ]
  },
  {
   "cell_type": "markdown",
   "id": "5a6f32ed",
   "metadata": {},
   "source": [
    "### Range\n",
    "```\n",
    "    range(n):\n",
    "        -> By Default it starts from 0 to n-1\n",
    "        => range(5) => 0,1,2,3,4\n",
    "    range(n,m):\n",
    "        -> Start range will starts from exactly at n and stops at m-1\n",
    "        => range(4,8) => 4,5,6,7\n",
    "    range(n,m,s):\n",
    "        -> Start range will starts from exactly at n and stops at m-1 and stepping to s\n",
    "        => range(4,10,2) => 4,6,8\n",
    "```"
   ]
  },
  {
   "cell_type": "code",
   "execution_count": 27,
   "id": "ac997c3e",
   "metadata": {},
   "outputs": [
    {
     "name": "stdout",
     "output_type": "stream",
     "text": [
      "Enter a range value: 4\n",
      "0,1,2,3,"
     ]
    }
   ],
   "source": [
    "n = int(input(\"Enter a range value: \"))\n",
    "for b in range(n):\n",
    "    print(b,end=\",\")"
   ]
  },
  {
   "cell_type": "code",
   "execution_count": 29,
   "id": "0fab9a74",
   "metadata": {},
   "outputs": [
    {
     "name": "stdout",
     "output_type": "stream",
     "text": [
      "Enter a Starting range value: 100\n",
      "Enter a Ending range value: 120\n",
      "100,101,102,103,104,105,106,107,108,109,110,111,112,113,114,115,116,117,118,119,"
     ]
    }
   ],
   "source": [
    "n = int(input(\"Enter a Starting range value: \"))\n",
    "m = int(input(\"Enter a Ending range value: \"))\n",
    "for b in range(n,m):\n",
    "    print(b,end=\",\")"
   ]
  },
  {
   "cell_type": "code",
   "execution_count": 31,
   "id": "6f7d88d1",
   "metadata": {},
   "outputs": [
    {
     "name": "stdout",
     "output_type": "stream",
     "text": [
      "Enter a Starting range value: 0\n",
      "Enter a Ending range value: 200\n",
      "Enter a Stepping Value: 70\n",
      "0,70,140,"
     ]
    }
   ],
   "source": [
    "n = int(input(\"Enter a Starting range value: \"))\n",
    "m = int(input(\"Enter a Ending range value: \"))\n",
    "s = int(input(\"Enter a Stepping Value: \"))\n",
    "for b in range(n,m,s):\n",
    "    print(b,end=\",\")"
   ]
  },
  {
   "cell_type": "code",
   "execution_count": 34,
   "id": "da0b22ae",
   "metadata": {},
   "outputs": [
    {
     "name": "stdout",
     "output_type": "stream",
     "text": [
      "Enter a Starting range value: 2\n",
      "Enter a Ending range value: 10\n",
      "Enter a Stepping Value: 2\n",
      "10,8,6,4,"
     ]
    }
   ],
   "source": [
    "n = int(input(\"Enter a Starting range value: \"))\n",
    "m = int(input(\"Enter a Ending range value: \"))\n",
    "s = int(input(\"Enter a Stepping Value: \"))\n",
    "for b in range(m,n,-s):\n",
    "    print(b,end=\",\")"
   ]
  },
  {
   "cell_type": "code",
   "execution_count": 41,
   "id": "9aa669ea",
   "metadata": {},
   "outputs": [
    {
     "name": "stdout",
     "output_type": "stream",
     "text": [
      "1\n",
      "10\n",
      "9 8 7 6 5 4 3 2 1 "
     ]
    }
   ],
   "source": [
    "p = int(input())\n",
    "k = int(input())\n",
    "for a in range(p,k):\n",
    "    print(k-a,end=\" \")"
   ]
  },
  {
   "cell_type": "code",
   "execution_count": null,
   "id": "99b6cca8",
   "metadata": {},
   "outputs": [],
   "source": []
  }
 ],
 "metadata": {
  "kernelspec": {
   "display_name": "Python 3",
   "language": "python",
   "name": "python3"
  },
  "language_info": {
   "codemirror_mode": {
    "name": "ipython",
    "version": 3
   },
   "file_extension": ".py",
   "mimetype": "text/x-python",
   "name": "python",
   "nbconvert_exporter": "python",
   "pygments_lexer": "ipython3",
   "version": "3.7.5"
  }
 },
 "nbformat": 4,
 "nbformat_minor": 5
}
