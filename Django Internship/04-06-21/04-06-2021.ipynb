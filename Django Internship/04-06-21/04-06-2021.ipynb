{
 "cells": [
  {
   "cell_type": "markdown",
   "id": "e7087e75",
   "metadata": {},
   "source": [
    "# Functions:\n",
    "    - To perform a specifc task\n",
    "    - Reuseability of code\n",
    "    - Number of lines can be decreased\n",
    "    - Predefined Functions, User defined Functions "
   ]
  },
  {
   "cell_type": "markdown",
   "id": "087398f4",
   "metadata": {},
   "source": [
    "## Predefined Functions\n",
    "    - Already work has been allocated for it\n",
    "    - print(),range(),int(),str(),max()"
   ]
  },
  {
   "cell_type": "markdown",
   "id": "58dad52b",
   "metadata": {},
   "source": [
    "## User Defined Functions:\n",
    "    - We need to allocate work for a function\n",
    "    - Syntax:\n",
    "            def function_name(arguments):\n",
    "                //stmnts\n",
    "                return return_value\n",
    "    "
   ]
  },
  {
   "cell_type": "markdown",
   "id": "2e7722b2",
   "metadata": {},
   "source": [
    "### Types of Functions:\n",
    "    - With return type and with arguments\n",
    "    - With return type and without arguments\n",
    "    - Without return type and with arguments\n",
    "    - Without return type and without arguments"
   ]
  },
  {
   "cell_type": "code",
   "execution_count": 10,
   "id": "cf2f7e24",
   "metadata": {},
   "outputs": [
    {
     "name": "stdout",
     "output_type": "stream",
     "text": [
      "20\n",
      "1 2 3 4 5 6 7 8 9 10 11 12 13 14 15 16 17 18 19 20 "
     ]
    }
   ],
   "source": [
    "# With return type and with arguments\n",
    "# Reading - Main\n",
    "# Prinitng - Main\n",
    "# Logic - Function\n",
    "\n",
    "def printnumbers(k):\n",
    "    j = []\n",
    "    for b in range(1,k+1):\n",
    "        j.append(b)\n",
    "    return j\n",
    "\n",
    "n = int(input())\n",
    "for z in range(1,len(printnumbers(n))+1):\n",
    "    print(z,end=\" \")"
   ]
  },
  {
   "cell_type": "code",
   "execution_count": 16,
   "id": "87aefd49",
   "metadata": {},
   "outputs": [
    {
     "name": "stdout",
     "output_type": "stream",
     "text": [
      "20\n",
      "2 4 6 8 10 12 14 16 18 20 "
     ]
    }
   ],
   "source": [
    "# With return type and without arguments\n",
    "# Reading - Function\n",
    "# Prinitng - Main\n",
    "# Logic - Function\n",
    "\n",
    "def evennumbers():\n",
    "    k,c = int(input()),[] \n",
    "    for b in range(1,k+1):\n",
    "        if b%2 == 0:\n",
    "            c.append(b)\n",
    "    return c\n",
    "\n",
    "for z in evennumbers():\n",
    "    print(z,end=\" \")"
   ]
  },
  {
   "cell_type": "code",
   "execution_count": 17,
   "id": "8ed7fecd",
   "metadata": {},
   "outputs": [
    {
     "name": "stdout",
     "output_type": "stream",
     "text": [
      "10\n",
      "1 3 5 7 9 "
     ]
    }
   ],
   "source": [
    "# Without return type and with arguments\n",
    "# Reading - Main\n",
    "# Prinitng - Function\n",
    "# Logic - Function\n",
    "\n",
    "def oddnumbers(m):\n",
    "    for i in range(1,m+1):\n",
    "        if i%2!=0:\n",
    "            print(i,end=\" \")\n",
    "    return \n",
    "\n",
    "b = int(input())\n",
    "oddnumbers(b)"
   ]
  },
  {
   "cell_type": "code",
   "execution_count": 18,
   "id": "774c0391",
   "metadata": {},
   "outputs": [
    {
     "name": "stdout",
     "output_type": "stream",
     "text": [
      "20\n",
      "100\n",
      "15\n",
      "20 35 50 65 80 95 "
     ]
    }
   ],
   "source": [
    "# Without return type and without arguments\n",
    "# Reading - Function\n",
    "# Prinitng - Function\n",
    "# Logic - Function\n",
    "\n",
    "def skippingvalues():\n",
    "    n = int(input())\n",
    "    m = int(input())\n",
    "    s = int(input())\n",
    "    for j in range(n,m,s):\n",
    "        print(j,end=\" \")\n",
    "    return \n",
    "\n",
    "skippingvalues()"
   ]
  },
  {
   "cell_type": "markdown",
   "id": "fa3769f8",
   "metadata": {},
   "source": [
    "## Task:\n",
    "```\n",
    "Input: 457996548895\n",
    "Output:\n",
    "    Given number is: 457996548895\n",
    "    Even numbers are: 4 6 4 8 8\n",
    "    Odd numbers are: 5 7 9 9 5 9 5\n",
    "    Left Half of Even numbers are: 4 6\n",
    "    Right Half of Even numbers are: 4 8 8 \n",
    "    Left Half of Even number sum is: 10\n",
    "    Right Half of Even number sum is: 20\n",
    "    \n",
    "```"
   ]
  },
  {
   "cell_type": "markdown",
   "id": "3e414bd4",
   "metadata": {},
   "source": [
    "## Arguments Types:\n",
    "    - Required arguments (or) Positional arguments\n",
    "    - Default arguments\n",
    "    - Keyword arguments\n",
    "    - Variable Length arguments"
   ]
  },
  {
   "cell_type": "code",
   "execution_count": 22,
   "id": "768cca85",
   "metadata": {},
   "outputs": [
    {
     "name": "stdout",
     "output_type": "stream",
     "text": [
      "Enter a name: yamini\n",
      "Enter an age: 78\n"
     ]
    },
    {
     "ename": "TypeError",
     "evalue": "student() missing 1 required positional argument: 'p'",
     "output_type": "error",
     "traceback": [
      "\u001b[1;31m---------------------------------------------------------------------------\u001b[0m",
      "\u001b[1;31mTypeError\u001b[0m                                 Traceback (most recent call last)",
      "\u001b[1;32m<ipython-input-22-f8bb4df23770>\u001b[0m in \u001b[0;36m<module>\u001b[1;34m\u001b[0m\n\u001b[0;32m      7\u001b[0m \u001b[0mname\u001b[0m \u001b[1;33m=\u001b[0m \u001b[0minput\u001b[0m\u001b[1;33m(\u001b[0m\u001b[1;34m\"Enter a name: \"\u001b[0m\u001b[1;33m)\u001b[0m\u001b[1;33m\u001b[0m\u001b[1;33m\u001b[0m\u001b[0m\n\u001b[0;32m      8\u001b[0m \u001b[0mage\u001b[0m \u001b[1;33m=\u001b[0m \u001b[0mint\u001b[0m\u001b[1;33m(\u001b[0m\u001b[0minput\u001b[0m\u001b[1;33m(\u001b[0m\u001b[1;34m\"Enter an age: \"\u001b[0m\u001b[1;33m)\u001b[0m\u001b[1;33m)\u001b[0m\u001b[1;33m\u001b[0m\u001b[1;33m\u001b[0m\u001b[0m\n\u001b[1;32m----> 9\u001b[1;33m \u001b[0mstudent\u001b[0m\u001b[1;33m(\u001b[0m\u001b[0mname\u001b[0m\u001b[1;33m,\u001b[0m\u001b[0mage\u001b[0m\u001b[1;33m)\u001b[0m\u001b[1;33m\u001b[0m\u001b[1;33m\u001b[0m\u001b[0m\n\u001b[0m",
      "\u001b[1;31mTypeError\u001b[0m: student() missing 1 required positional argument: 'p'"
     ]
    }
   ],
   "source": [
    "# required arguments\n",
    "\n",
    "def student(n,a,p):\n",
    "    print(\"Your Name is: {}\\nYour age is: {}\".format(n,a,p))\n",
    "    return \n",
    "\n",
    "name = input(\"Enter a name: \")\n",
    "age = int(input(\"Enter an age: \"))\n",
    "student(name,age)"
   ]
  },
  {
   "cell_type": "code",
   "execution_count": 36,
   "id": "2a47836a",
   "metadata": {},
   "outputs": [
    {
     "name": "stdout",
     "output_type": "stream",
     "text": [
      "Enter Employee Name: Prasad\n"
     ]
    },
    {
     "ename": "TypeError",
     "evalue": "employee() missing 1 required positional argument: 'n'",
     "output_type": "error",
     "traceback": [
      "\u001b[1;31m---------------------------------------------------------------------------\u001b[0m",
      "\u001b[1;31mTypeError\u001b[0m                                 Traceback (most recent call last)",
      "\u001b[1;32m<ipython-input-36-fa4f6e6acd7f>\u001b[0m in \u001b[0;36m<module>\u001b[1;34m\u001b[0m\n\u001b[0;32m      7\u001b[0m \u001b[0mn\u001b[0m \u001b[1;33m=\u001b[0m \u001b[0minput\u001b[0m\u001b[1;33m(\u001b[0m\u001b[1;34m\"Enter Employee Name: \"\u001b[0m\u001b[1;33m)\u001b[0m\u001b[1;33m\u001b[0m\u001b[1;33m\u001b[0m\u001b[0m\n\u001b[0;32m      8\u001b[0m \u001b[1;31m# m = int(input(\"Enter Employee Age: \"))\u001b[0m\u001b[1;33m\u001b[0m\u001b[1;33m\u001b[0m\u001b[1;33m\u001b[0m\u001b[0m\n\u001b[1;32m----> 9\u001b[1;33m \u001b[0memployee\u001b[0m\u001b[1;33m(\u001b[0m\u001b[0mn\u001b[0m\u001b[1;33m)\u001b[0m\u001b[1;33m\u001b[0m\u001b[1;33m\u001b[0m\u001b[0m\n\u001b[0m",
      "\u001b[1;31mTypeError\u001b[0m: employee() missing 1 required positional argument: 'n'"
     ]
    }
   ],
   "source": [
    "# Default arguments\n",
    "\n",
    "def employee(k,n,p=89,s=45000):\n",
    "    print(\"Employee Name is: {}\\nEmployee Age is: {}\\nEmployee Salary is: {}\".format(k,p,s))\n",
    "    return\n",
    "\n",
    "n = input(\"Enter Employee Name: \")\n",
    "# m = int(input(\"Enter Employee Age: \"))\n",
    "employee(n)"
   ]
  },
  {
   "cell_type": "code",
   "execution_count": 49,
   "id": "2298c86a",
   "metadata": {},
   "outputs": [
    {
     "name": "stdout",
     "output_type": "stream",
     "text": [
      "Enter Your Collegename: SRM\n",
      "Enter Your Year: 2010\n",
      "Your collegename is: SRM\n",
      "Your Year is: 2010\n"
     ]
    }
   ],
   "source": [
    "# Keyword argument\n",
    "\n",
    "def college(y,c):\n",
    "    print(\"Your collegename is: {}\\nYour Year is: {}\".format(c,y))\n",
    "    return\n",
    "\n",
    "# cname = input(\"Enter Your Collegename: \")\n",
    "# year = int(input(\"Enter Your Year: \"))\n",
    "college(c=input(\"Enter Your Collegename: \"),y=int(input(\"Enter Your Year: \")))"
   ]
  },
  {
   "cell_type": "code",
   "execution_count": 64,
   "id": "3ec1df4c",
   "metadata": {},
   "outputs": [
    {
     "name": "stdout",
     "output_type": "stream",
     "text": [
      "4\n",
      "56\n",
      "4\n",
      "4 <class 'int'>\n",
      "('56', '4') <class 'tuple'>\n",
      "60\n"
     ]
    }
   ],
   "source": [
    "# Variable Length Arguments:\n",
    "\n",
    "def number(y,*p):\n",
    "    print(y,type(y))\n",
    "    print(p,type(p))\n",
    "    b = []\n",
    "    for i in p:\n",
    "        b.append(int(i))\n",
    "    print(sum(b))\n",
    "    return\n",
    "\n",
    "b = int(input())\n",
    "k = input()\n",
    "g = input()\n",
    "number(b,k,g)"
   ]
  },
  {
   "cell_type": "code",
   "execution_count": 62,
   "id": "f43d5b33",
   "metadata": {},
   "outputs": [
    {
     "name": "stdout",
     "output_type": "stream",
     "text": [
      "25\n"
     ]
    }
   ],
   "source": [
    "name\n",
    "mobile\n",
    "age\n",
    "sal\n",
    "\n",
    "name (mobile,age,sal)"
   ]
  },
  {
   "cell_type": "code",
   "execution_count": 67,
   "id": "ba9bc1ed",
   "metadata": {},
   "outputs": [
    {
     "name": "stdout",
     "output_type": "stream",
     "text": [
      "Ramu\n",
      "9874586985\n",
      "56\n",
      "450000\n",
      "{'Ramu': (9874586985, 56, 450000)}\n"
     ]
    }
   ],
   "source": [
    "c = {}\n",
    "def contact(name,*t):\n",
    "    c[name] = t\n",
    "    return c\n",
    "\n",
    "name = input()\n",
    "mobile = int(input())\n",
    "age = int(input())\n",
    "sal = int(input())\n",
    "contact(name,mobile,age,sal)\n",
    "print(c)"
   ]
  },
  {
   "cell_type": "code",
   "execution_count": null,
   "id": "9c9f8780",
   "metadata": {},
   "outputs": [],
   "source": []
  }
 ],
 "metadata": {
  "kernelspec": {
   "display_name": "Python 3",
   "language": "python",
   "name": "python3"
  },
  "language_info": {
   "codemirror_mode": {
    "name": "ipython",
    "version": 3
   },
   "file_extension": ".py",
   "mimetype": "text/x-python",
   "name": "python",
   "nbconvert_exporter": "python",
   "pygments_lexer": "ipython3",
   "version": "3.7.5"
  }
 },
 "nbformat": 4,
 "nbformat_minor": 5
}
