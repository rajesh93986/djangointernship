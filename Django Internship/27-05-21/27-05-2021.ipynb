{
 "cells": [
  {
   "cell_type": "markdown",
   "id": "6c9a27aa",
   "metadata": {},
   "source": [
    "```\n",
    "Input: 20\n",
    "Output:\n",
    "        19AK1A0501\n",
    "        | | | | |\n",
    "        19AK1A0509\n",
    "        19AK1A0510\n",
    "````"
   ]
  },
  {
   "cell_type": "code",
   "execution_count": 10,
   "id": "9773ee98",
   "metadata": {},
   "outputs": [
    {
     "name": "stdout",
     "output_type": "stream",
     "text": [
      "11\n",
      "19AK1A0500\n",
      "19AK1A0501\n",
      "19AK1A0502\n",
      "19AK1A0503\n",
      "19AK1A0504\n",
      "19AK1A0505\n",
      "19AK1A0506\n",
      "19AK1A0507\n",
      "19AK1A0508\n",
      "19AK1A0509\n",
      "19AK1A0510\n"
     ]
    }
   ],
   "source": [
    "n = int(input())\n",
    "for j in range(n):\n",
    "    print(\"19AK1A05{:02}\".format(j))"
   ]
  },
  {
   "cell_type": "markdown",
   "id": "75a1bc87",
   "metadata": {},
   "source": [
    "## While -> Unknown ranges, Known ranges\n",
    "    \n",
    "```\n",
    "    Syntax:\n",
    "        variable init\n",
    "        while (condition):\n",
    "            //stmnt\n",
    "            // incr/decr\n",
    "```"
   ]
  },
  {
   "cell_type": "code",
   "execution_count": 12,
   "id": "86063514",
   "metadata": {},
   "outputs": [
    {
     "name": "stdout",
     "output_type": "stream",
     "text": [
      "20\n",
      "20 19 18 17 16 15 14 13 12 11 "
     ]
    }
   ],
   "source": [
    "n = int(input())\n",
    "while n!=10:\n",
    "    print(n,end=\" \")\n",
    "    n = n-1"
   ]
  },
  {
   "cell_type": "code",
   "execution_count": 14,
   "id": "a593bbf3",
   "metadata": {},
   "outputs": [
    {
     "name": "stdout",
     "output_type": "stream",
     "text": [
      "20\n",
      "1 2 3 4 5 6 7 8 9 10 11 12 13 14 15 16 17 18 19 "
     ]
    }
   ],
   "source": [
    "m = int(input())\n",
    "i = 1\n",
    "while m!=i:\n",
    "    print(i,end=\" \")\n",
    "    i = i+1"
   ]
  },
  {
   "cell_type": "markdown",
   "id": "42a4dd01",
   "metadata": {},
   "source": [
    "```\n",
    "Input: 1259\n",
    "Output:\n",
    "    Given number is: 1259\n",
    "    reverse of a number is: 9521\n",
    "    Given number is 1259 and its reverse is: 9521\n",
    "```"
   ]
  },
  {
   "cell_type": "code",
   "execution_count": 21,
   "id": "a8a1a781",
   "metadata": {},
   "outputs": [
    {
     "name": "stdout",
     "output_type": "stream",
     "text": [
      "1259\n",
      "Given number is: 1259\n",
      "Reverse of a number is: 9521\n",
      "Given number is 1259 and its reverse is: 9521\n"
     ]
    }
   ],
   "source": [
    "n = int(input())\n",
    "r = 0\n",
    "p = n\n",
    "while n!=0:\n",
    "    r = r*10+n%10\n",
    "    n //=10\n",
    "print(\"Given number is: {}\\nReverse of a number is: {}\\n\"\n",
    "\"Given number is {} and its reverse is: {}\".format(p,r,p,r))"
   ]
  },
  {
   "cell_type": "markdown",
   "id": "824fcf10",
   "metadata": {},
   "source": [
    "## Jumping Statements:\n",
    "    - break -> exit\n",
    "    - continue -> skip\n",
    "    - pass -> skip nothing will be printed\n",
    "    - return -> values to be sent for functions"
   ]
  },
  {
   "cell_type": "code",
   "execution_count": 22,
   "id": "17367822",
   "metadata": {},
   "outputs": [
    {
     "name": "stdout",
     "output_type": "stream",
     "text": [
      "10\n",
      "0,1,2,3,4,5,6,7,8,9,10,"
     ]
    }
   ],
   "source": [
    "n = int(input())\n",
    "for k in range(n+1):\n",
    "    print(k,end=\",\")"
   ]
  },
  {
   "cell_type": "code",
   "execution_count": 25,
   "id": "fb777334",
   "metadata": {},
   "outputs": [
    {
     "name": "stdout",
     "output_type": "stream",
     "text": [
      "100\n",
      "0 1 2 3 4 \n",
      " 5\n"
     ]
    }
   ],
   "source": [
    "n = int(input())\n",
    "for h in range(n):\n",
    "    if h == 5:\n",
    "        break\n",
    "    else:\n",
    "        print(h,end=\" \")\n",
    "print(\"\\n\",h)"
   ]
  },
  {
   "cell_type": "code",
   "execution_count": 26,
   "id": "71796cc8",
   "metadata": {},
   "outputs": [
    {
     "name": "stdout",
     "output_type": "stream",
     "text": [
      "20\n",
      "0 1 2 3 4 6 7 8 9 10 11 12 13 14 15 16 17 18 19 \n",
      " 19\n"
     ]
    }
   ],
   "source": [
    "n = int(input())\n",
    "for h in range(n):\n",
    "    if h == 5:\n",
    "        continue\n",
    "    else:\n",
    "        print(h,end=\" \")\n",
    "print(\"\\n\",h)"
   ]
  },
  {
   "cell_type": "code",
   "execution_count": 37,
   "id": "584c23fd",
   "metadata": {},
   "outputs": [
    {
     "name": "stdout",
     "output_type": "stream",
     "text": [
      "10\n",
      "1,2,3,4,5,6,7,8,9,"
     ]
    }
   ],
   "source": [
    "n = int(input())\n",
    "for b in range(n):\n",
    "    if b == 0:\n",
    "        pass\n",
    "    else:\n",
    "        print(b,end=\",\")"
   ]
  },
  {
   "cell_type": "code",
   "execution_count": 36,
   "id": "5386d1d9",
   "metadata": {},
   "outputs": [
    {
     "name": "stdout",
     "output_type": "stream",
     "text": [
      "h\n",
      "pass executed\n",
      "e\n",
      "l\n",
      "l\n",
      "o\n",
      "----\n",
      "h\n",
      "continue executed\n",
      "l\n",
      "l\n",
      "o\n"
     ]
    }
   ],
   "source": [
    "for i in 'hello':\n",
    "    if(i == 'e'):\n",
    "        print('pass executed')\n",
    "        pass\n",
    "    print(i)\n",
    "\n",
    "print('----')\n",
    "\n",
    "for i in 'hello':\n",
    "    if(i == 'e'):\n",
    "        print('continue executed')\n",
    "        continue\n",
    "    print(i)"
   ]
  },
  {
   "cell_type": "markdown",
   "id": "5541a836",
   "metadata": {},
   "source": [
    "## Inner Loops:\n",
    "    - Loop within a Loop\n",
    "\n",
    "```\n",
    "    Syntax:\n",
    "        for i in range():\n",
    "            for j in range():\n",
    "                if (conditional-n):\n",
    "                    //stmnts\n",
    "                else:\n",
    "                    //stmnts\n",
    "             print(\"\\n\")\n",
    "```\n",
    "    "
   ]
  },
  {
   "cell_type": "markdown",
   "id": "693dc5de",
   "metadata": {},
   "source": [
    "```\n",
    "1 - 31\n",
    "r - 5\n",
    "c - 7\n",
    "\n",
    "Step-1\n",
    "01 02 03 04 05 06 07\n",
    "08 09 10 11 12 13 14\n",
    "15 16 17 18 19 20 21\n",
    "22 23 24 25 26 27 28\n",
    "29 30 31\n",
    "\n",
    "Step-2\n",
    "01 ** 03 ** 05 ** 07\n",
    "** 09 ** 11 ** 13 **\n",
    "15 ** 17 ** 19 ** 21\n",
    "** 23 ** 25 ** 27 **\n",
    "29 ** 31\n",
    "\n",
    "Step-3\n",
    "01 ** 03 ** ## ** 07\n",
    "** 09 ## 11 ** 13 **\n",
    "## ** 17 ** 19 ## 21\n",
    "** 23 ** ## ** 27 **\n",
    "29 ## 31\n",
    "\n",
    "\n",
    "Step-4\n",
    "01 ** () ** ## ** 07\n",
    "** () ## 11 ** 13 **\n",
    "## ** 17 ** 19 ## ()\n",
    "** 23 ** ## ** () **\n",
    "29 ## 31\n",
    "\n",
    "\n",
    "Step-5\n",
    "[] ** () ** ## ** []\n",
    "** () ## [] ** [] **\n",
    "## ** [] ** [] ## ()\n",
    "** [] ** ## ** () **\n",
    "[] ## []\n",
    "\n",
    "\n",
    "Step-6\n",
    "[] ** || ** ## ** []\n",
    "** () || [] ** [] **\n",
    "## ** || ** [] ## ()\n",
    "** [] || ## ** () **\n",
    "[] ## ||\n",
    "\n",
    "Step-7\n",
    "[] ** || ** ## ** []\n",
    "&& && && && && && &&\n",
    "## ** || ** [] ## ()\n",
    "** [] || ## ** () **\n",
    "[] ## ||\n",
    "```"
   ]
  },
  {
   "cell_type": "code",
   "execution_count": 54,
   "id": "f7081a36",
   "metadata": {},
   "outputs": [
    {
     "name": "stdout",
     "output_type": "stream",
     "text": [
      "[] ** || ** ## ** [] \n",
      "&& && && && && && && \n",
      "## ** || ** [] ## () \n",
      "** [] || ## ** () ** \n",
      "[] ## || \n"
     ]
    }
   ],
   "source": [
    "a = 1\n",
    "for i in range(1,6):\n",
    "    for j in range(1,8):\n",
    "        if i == 2:\n",
    "            print(\"&&\",end=\" \")\n",
    "        elif j == 3:\n",
    "            print(\"||\",end=\" \")\n",
    "        elif a <= 31:\n",
    "            if a%5==0:\n",
    "                print(\"##\",end=\" \")\n",
    "            elif a%2==0:\n",
    "                print(\"**\",end=\" \")\n",
    "            elif a%3==0:\n",
    "                print(\"()\",end=\" \")\n",
    "            else:\n",
    "                print(\"[]\",end=\" \")\n",
    "        else:\n",
    "            break\n",
    "        a+=1\n",
    "    print(end=\"\\n\")"
   ]
  },
  {
   "cell_type": "code",
   "execution_count": null,
   "id": "1fb04a2a",
   "metadata": {},
   "outputs": [],
   "source": []
  }
 ],
 "metadata": {
  "kernelspec": {
   "display_name": "Python 3",
   "language": "python",
   "name": "python3"
  },
  "language_info": {
   "codemirror_mode": {
    "name": "ipython",
    "version": 3
   },
   "file_extension": ".py",
   "mimetype": "text/x-python",
   "name": "python",
   "nbconvert_exporter": "python",
   "pygments_lexer": "ipython3",
   "version": "3.7.5"
  }
 },
 "nbformat": 4,
 "nbformat_minor": 5
}
